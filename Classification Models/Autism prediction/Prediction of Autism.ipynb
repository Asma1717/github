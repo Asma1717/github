{
 "cells": [
  {
   "cell_type": "markdown",
   "metadata": {},
   "source": [
    "# Prediction of Autism by logistic regression\n",
    "<h1>Table of contents</h1>\n",
    "\n",
    "<div class=\"alert alert-block alert-info\" style=\"margin-top: 20px\">\n",
    "    <ol>\n",
    "        <li><a href=\"#about_dataset\">About the dataset</a></li>\n",
    "        <li><a href=\"#preprocessing\">Data pre-processing and selection</a></li>\n",
    "        <li><a href=\"#modeling\">Modeling (Logistic Regression with Scikit-learn)</a></li>\n",
    "        <li><a href=\"#evaluation\">Evaluation</a></li>\n",
    "    </ol>\n",
    "</div>\n",
    "<br>\n",
    "<hr>"
   ]
  },
  {
   "cell_type": "markdown",
   "metadata": {},
   "source": [
    "The rapid growth in the number of ASD cases worldwide necessitates datasets related to behaviour traits. However, such datasets are rare making it difficult to perform thorough analyses to improve the efficiency, sensitivity, specificity and predictive accuracy of the ASD screening process. Presently, very limited autism datasets associated with clinical or screening are available and most of them are genetic in nature. Hence, we propose a new dataset related to autism screening of toddlers that contained influential features to be utilised for further analysis especially in determining autistic traits and improving the classification of ASD cases. In this dataset, we record ten behavioural features (Q-Chat-10) plus other individuals characteristics that have proved to be effective in detecting the ASD cases from controls in behaviour science. "
   ]
  },
  {
   "cell_type": "code",
   "execution_count": 15,
   "metadata": {},
   "outputs": [],
   "source": [
    "import pandas as pd\n",
    "import pylab as pl\n",
    "import numpy as np\n",
    "import scipy.optimize as opt\n",
    "from sklearn import preprocessing\n",
    "%matplotlib inline \n",
    "import matplotlib.pyplot as plt"
   ]
  },
  {
   "cell_type": "markdown",
   "metadata": {},
   "source": [
    "<h2 id=\"about_dataset\">About the dataset</h2>"
   ]
  },
  {
   "cell_type": "markdown",
   "metadata": {},
   "source": [
    "<b>Data Type:</b> Predictive and Descriptive: Nominal / categorical, binary and continuous    \n",
    "<b>Task:</b> Classification   \n",
    "<b>Attribute Type:</b> Categorical, continuous and binary     \n",
    "<b>Area:</b> Medical, health and social science   \n",
    "<b>Format Type:</b> Non-Matrix   \n",
    "<b>Does your data set contain missing values?</b> No   \n",
    "<b>Number of Instances (records in your data set):</b> 1054   \n",
    "<b>Number of Attributes (fields within each record): </b>18 including the class variable    \n",
    "<b>Attribute Information:</b>  For Further information about the attributes/feature see below table.   \n",
    "\n",
    "<b>Attributes:   </b>\n",
    "A1-A10: Items within Q-Chat-10  in which questions possible answers : “Always, Usually, Sometimes, Rarly & Never” items’ values are mapped to “1” or “0” in the dataset. For questions 1-9 (A1-A9) in Q-chat-10,  if the respose was  Sometimes / Rarly / Never “1” is assigned to the question (A1-A9). However, for question 10 (A10), if the respose was Always / Usually / Sometimes then “1” is assigned to that question. If the user obtained More than 3 Add points together for all ten questions. If your child scores more than 3 (Q-chat-10- score) then there is a potential ASD traits otherwise no ASD traits are observed.\n"
   ]
  },
  {
   "cell_type": "markdown",
   "metadata": {},
   "source": [
    "###  Load the data "
   ]
  },
  {
   "cell_type": "code",
   "execution_count": 41,
   "metadata": {},
   "outputs": [
    {
     "data": {
      "text/html": [
       "<div>\n",
       "<style scoped>\n",
       "    .dataframe tbody tr th:only-of-type {\n",
       "        vertical-align: middle;\n",
       "    }\n",
       "\n",
       "    .dataframe tbody tr th {\n",
       "        vertical-align: top;\n",
       "    }\n",
       "\n",
       "    .dataframe thead th {\n",
       "        text-align: right;\n",
       "    }\n",
       "</style>\n",
       "<table border=\"1\" class=\"dataframe\">\n",
       "  <thead>\n",
       "    <tr style=\"text-align: right;\">\n",
       "      <th></th>\n",
       "      <th>Case_No</th>\n",
       "      <th>A1</th>\n",
       "      <th>A2</th>\n",
       "      <th>A3</th>\n",
       "      <th>A4</th>\n",
       "      <th>A5</th>\n",
       "      <th>A6</th>\n",
       "      <th>A7</th>\n",
       "      <th>A8</th>\n",
       "      <th>A9</th>\n",
       "      <th>...</th>\n",
       "      <th>Sexb</th>\n",
       "      <th>Sex</th>\n",
       "      <th>Ethnicity</th>\n",
       "      <th>Jaundice</th>\n",
       "      <th>Jaundiceb</th>\n",
       "      <th>Family_mem_with_ASD</th>\n",
       "      <th>Family_mem_with_ASDb</th>\n",
       "      <th>Who completed the test</th>\n",
       "      <th>Class</th>\n",
       "      <th>ADS</th>\n",
       "    </tr>\n",
       "  </thead>\n",
       "  <tbody>\n",
       "    <tr>\n",
       "      <th>0</th>\n",
       "      <td>1</td>\n",
       "      <td>0</td>\n",
       "      <td>0</td>\n",
       "      <td>0</td>\n",
       "      <td>0</td>\n",
       "      <td>0</td>\n",
       "      <td>0</td>\n",
       "      <td>1</td>\n",
       "      <td>1</td>\n",
       "      <td>0</td>\n",
       "      <td>...</td>\n",
       "      <td>f</td>\n",
       "      <td>1</td>\n",
       "      <td>middle eastern</td>\n",
       "      <td>1</td>\n",
       "      <td>yes</td>\n",
       "      <td>0</td>\n",
       "      <td>no</td>\n",
       "      <td>family member</td>\n",
       "      <td>No</td>\n",
       "      <td>0</td>\n",
       "    </tr>\n",
       "    <tr>\n",
       "      <th>1</th>\n",
       "      <td>2</td>\n",
       "      <td>1</td>\n",
       "      <td>1</td>\n",
       "      <td>0</td>\n",
       "      <td>0</td>\n",
       "      <td>0</td>\n",
       "      <td>1</td>\n",
       "      <td>1</td>\n",
       "      <td>0</td>\n",
       "      <td>0</td>\n",
       "      <td>...</td>\n",
       "      <td>m</td>\n",
       "      <td>0</td>\n",
       "      <td>White European</td>\n",
       "      <td>1</td>\n",
       "      <td>yes</td>\n",
       "      <td>0</td>\n",
       "      <td>no</td>\n",
       "      <td>family member</td>\n",
       "      <td>Yes</td>\n",
       "      <td>1</td>\n",
       "    </tr>\n",
       "    <tr>\n",
       "      <th>2</th>\n",
       "      <td>3</td>\n",
       "      <td>1</td>\n",
       "      <td>0</td>\n",
       "      <td>0</td>\n",
       "      <td>0</td>\n",
       "      <td>0</td>\n",
       "      <td>0</td>\n",
       "      <td>1</td>\n",
       "      <td>1</td>\n",
       "      <td>0</td>\n",
       "      <td>...</td>\n",
       "      <td>m</td>\n",
       "      <td>0</td>\n",
       "      <td>middle eastern</td>\n",
       "      <td>1</td>\n",
       "      <td>yes</td>\n",
       "      <td>0</td>\n",
       "      <td>no</td>\n",
       "      <td>family member</td>\n",
       "      <td>Yes</td>\n",
       "      <td>1</td>\n",
       "    </tr>\n",
       "    <tr>\n",
       "      <th>3</th>\n",
       "      <td>4</td>\n",
       "      <td>1</td>\n",
       "      <td>1</td>\n",
       "      <td>1</td>\n",
       "      <td>1</td>\n",
       "      <td>1</td>\n",
       "      <td>1</td>\n",
       "      <td>1</td>\n",
       "      <td>1</td>\n",
       "      <td>1</td>\n",
       "      <td>...</td>\n",
       "      <td>m</td>\n",
       "      <td>0</td>\n",
       "      <td>Hispanic</td>\n",
       "      <td>0</td>\n",
       "      <td>no</td>\n",
       "      <td>0</td>\n",
       "      <td>no</td>\n",
       "      <td>family member</td>\n",
       "      <td>Yes</td>\n",
       "      <td>1</td>\n",
       "    </tr>\n",
       "    <tr>\n",
       "      <th>4</th>\n",
       "      <td>5</td>\n",
       "      <td>1</td>\n",
       "      <td>1</td>\n",
       "      <td>0</td>\n",
       "      <td>1</td>\n",
       "      <td>1</td>\n",
       "      <td>1</td>\n",
       "      <td>1</td>\n",
       "      <td>1</td>\n",
       "      <td>1</td>\n",
       "      <td>...</td>\n",
       "      <td>f</td>\n",
       "      <td>1</td>\n",
       "      <td>White European</td>\n",
       "      <td>0</td>\n",
       "      <td>no</td>\n",
       "      <td>1</td>\n",
       "      <td>yes</td>\n",
       "      <td>family member</td>\n",
       "      <td>Yes</td>\n",
       "      <td>1</td>\n",
       "    </tr>\n",
       "  </tbody>\n",
       "</table>\n",
       "<p>5 rows × 23 columns</p>\n",
       "</div>"
      ],
      "text/plain": [
       "   Case_No  A1  A2  A3  A4  A5  A6  A7  A8  A9  ...  Sexb  Sex  \\\n",
       "0        1   0   0   0   0   0   0   1   1   0  ...     f    1   \n",
       "1        2   1   1   0   0   0   1   1   0   0  ...     m    0   \n",
       "2        3   1   0   0   0   0   0   1   1   0  ...     m    0   \n",
       "3        4   1   1   1   1   1   1   1   1   1  ...     m    0   \n",
       "4        5   1   1   0   1   1   1   1   1   1  ...     f    1   \n",
       "\n",
       "        Ethnicity Jaundice  Jaundiceb Family_mem_with_ASD  \\\n",
       "0  middle eastern        1        yes                   0   \n",
       "1  White European        1        yes                   0   \n",
       "2  middle eastern        1        yes                   0   \n",
       "3        Hispanic        0         no                   0   \n",
       "4  White European        0         no                   1   \n",
       "\n",
       "   Family_mem_with_ASDb Who completed the test  Class ADS  \n",
       "0                    no          family member     No   0  \n",
       "1                    no          family member    Yes   1  \n",
       "2                    no          family member    Yes   1  \n",
       "3                    no          family member    Yes   1  \n",
       "4                   yes          family member    Yes   1  \n",
       "\n",
       "[5 rows x 23 columns]"
      ]
     },
     "execution_count": 41,
     "metadata": {},
     "output_type": "execute_result"
    }
   ],
   "source": [
    "address='C:/Users/HP/Desktop/Toddler Autism dataset July 2018.csv'\n",
    "Autism_df = pd.read_csv(address)\n",
    "Autism_df.head()"
   ]
  },
  {
   "cell_type": "markdown",
   "metadata": {},
   "source": [
    "<h2 id=\"preprocessing\">Data pre-processing and selection</h2>\n",
    "\n",
    "Lets select some features for the modeling. Also we change the target data type to be integer, as it is a requirement  by the skitlearn algorithm:\n"
   ]
  },
  {
   "cell_type": "code",
   "execution_count": 17,
   "metadata": {},
   "outputs": [
    {
     "data": {
      "text/html": [
       "<div>\n",
       "<style scoped>\n",
       "    .dataframe tbody tr th:only-of-type {\n",
       "        vertical-align: middle;\n",
       "    }\n",
       "\n",
       "    .dataframe tbody tr th {\n",
       "        vertical-align: top;\n",
       "    }\n",
       "\n",
       "    .dataframe thead th {\n",
       "        text-align: right;\n",
       "    }\n",
       "</style>\n",
       "<table border=\"1\" class=\"dataframe\">\n",
       "  <thead>\n",
       "    <tr style=\"text-align: right;\">\n",
       "      <th></th>\n",
       "      <th>A1</th>\n",
       "      <th>A2</th>\n",
       "      <th>A3</th>\n",
       "      <th>A4</th>\n",
       "      <th>A5</th>\n",
       "      <th>A6</th>\n",
       "      <th>A7</th>\n",
       "      <th>A8</th>\n",
       "      <th>A9</th>\n",
       "      <th>A10</th>\n",
       "      <th>Age_Mons</th>\n",
       "      <th>Sex</th>\n",
       "      <th>Jaundice</th>\n",
       "      <th>Family_mem_with_ASD</th>\n",
       "      <th>ADS</th>\n",
       "    </tr>\n",
       "  </thead>\n",
       "  <tbody>\n",
       "    <tr>\n",
       "      <th>0</th>\n",
       "      <td>0</td>\n",
       "      <td>0</td>\n",
       "      <td>0</td>\n",
       "      <td>0</td>\n",
       "      <td>0</td>\n",
       "      <td>0</td>\n",
       "      <td>1</td>\n",
       "      <td>1</td>\n",
       "      <td>0</td>\n",
       "      <td>1</td>\n",
       "      <td>28</td>\n",
       "      <td>1</td>\n",
       "      <td>1</td>\n",
       "      <td>0</td>\n",
       "      <td>0</td>\n",
       "    </tr>\n",
       "    <tr>\n",
       "      <th>1</th>\n",
       "      <td>1</td>\n",
       "      <td>1</td>\n",
       "      <td>0</td>\n",
       "      <td>0</td>\n",
       "      <td>0</td>\n",
       "      <td>1</td>\n",
       "      <td>1</td>\n",
       "      <td>0</td>\n",
       "      <td>0</td>\n",
       "      <td>0</td>\n",
       "      <td>36</td>\n",
       "      <td>0</td>\n",
       "      <td>1</td>\n",
       "      <td>0</td>\n",
       "      <td>1</td>\n",
       "    </tr>\n",
       "    <tr>\n",
       "      <th>2</th>\n",
       "      <td>1</td>\n",
       "      <td>0</td>\n",
       "      <td>0</td>\n",
       "      <td>0</td>\n",
       "      <td>0</td>\n",
       "      <td>0</td>\n",
       "      <td>1</td>\n",
       "      <td>1</td>\n",
       "      <td>0</td>\n",
       "      <td>1</td>\n",
       "      <td>36</td>\n",
       "      <td>0</td>\n",
       "      <td>1</td>\n",
       "      <td>0</td>\n",
       "      <td>1</td>\n",
       "    </tr>\n",
       "    <tr>\n",
       "      <th>3</th>\n",
       "      <td>1</td>\n",
       "      <td>1</td>\n",
       "      <td>1</td>\n",
       "      <td>1</td>\n",
       "      <td>1</td>\n",
       "      <td>1</td>\n",
       "      <td>1</td>\n",
       "      <td>1</td>\n",
       "      <td>1</td>\n",
       "      <td>1</td>\n",
       "      <td>24</td>\n",
       "      <td>0</td>\n",
       "      <td>0</td>\n",
       "      <td>0</td>\n",
       "      <td>1</td>\n",
       "    </tr>\n",
       "    <tr>\n",
       "      <th>4</th>\n",
       "      <td>1</td>\n",
       "      <td>1</td>\n",
       "      <td>0</td>\n",
       "      <td>1</td>\n",
       "      <td>1</td>\n",
       "      <td>1</td>\n",
       "      <td>1</td>\n",
       "      <td>1</td>\n",
       "      <td>1</td>\n",
       "      <td>1</td>\n",
       "      <td>20</td>\n",
       "      <td>1</td>\n",
       "      <td>0</td>\n",
       "      <td>1</td>\n",
       "      <td>1</td>\n",
       "    </tr>\n",
       "  </tbody>\n",
       "</table>\n",
       "</div>"
      ],
      "text/plain": [
       "   A1  A2  A3  A4  A5  A6  A7  A8  A9  A10  Age_Mons  Sex  Jaundice  \\\n",
       "0   0   0   0   0   0   0   1   1   0    1        28    1         1   \n",
       "1   1   1   0   0   0   1   1   0   0    0        36    0         1   \n",
       "2   1   0   0   0   0   0   1   1   0    1        36    0         1   \n",
       "3   1   1   1   1   1   1   1   1   1    1        24    0         0   \n",
       "4   1   1   0   1   1   1   1   1   1    1        20    1         0   \n",
       "\n",
       "   Family_mem_with_ASD  ADS  \n",
       "0                    0    0  \n",
       "1                    0    1  \n",
       "2                    0    1  \n",
       "3                    0    1  \n",
       "4                    1    1  "
      ]
     },
     "execution_count": 17,
     "metadata": {},
     "output_type": "execute_result"
    }
   ],
   "source": [
    "Autism_df = Autism_df[['A1', 'A2', 'A3', 'A4', 'A5', 'A6','A7','A8','A9','A10','Age_Mons','Sex','Jaundice','Family_mem_with_ASD','ADS']]\n",
    "Autism_df['ADS'] = Autism_df['ADS'].astype('int')\n",
    "Autism_df.head()"
   ]
  },
  {
   "cell_type": "code",
   "execution_count": 18,
   "metadata": {},
   "outputs": [
    {
     "data": {
      "text/plain": [
       "(1054, 15)"
      ]
     },
     "execution_count": 18,
     "metadata": {},
     "output_type": "execute_result"
    }
   ],
   "source": [
    "Autism_df.shape"
   ]
  },
  {
   "cell_type": "markdown",
   "metadata": {},
   "source": [
    "Lets define X, and y for our dataset:"
   ]
  },
  {
   "cell_type": "code",
   "execution_count": 19,
   "metadata": {},
   "outputs": [
    {
     "data": {
      "text/plain": [
       "array([[ 0,  0,  0,  0,  0,  0,  1,  1,  0,  1, 28,  1,  1,  0,  0],\n",
       "       [ 1,  1,  0,  0,  0,  1,  1,  0,  0,  0, 36,  0,  1,  0,  1],\n",
       "       [ 1,  0,  0,  0,  0,  0,  1,  1,  0,  1, 36,  0,  1,  0,  1],\n",
       "       [ 1,  1,  1,  1,  1,  1,  1,  1,  1,  1, 24,  0,  0,  0,  1],\n",
       "       [ 1,  1,  0,  1,  1,  1,  1,  1,  1,  1, 20,  1,  0,  1,  1]],\n",
       "      dtype=int64)"
      ]
     },
     "execution_count": 19,
     "metadata": {},
     "output_type": "execute_result"
    }
   ],
   "source": [
    "X = np.asarray(Autism_df[['A1', 'A2', 'A3', 'A4', 'A5', 'A6','A7','A8','A9','A10','Age_Mons','Sex','Jaundice','Family_mem_with_ASD','ADS']])\n",
    "X[0:5]"
   ]
  },
  {
   "cell_type": "code",
   "execution_count": 20,
   "metadata": {},
   "outputs": [
    {
     "data": {
      "text/plain": [
       "array([0, 1, 1, 1, 1])"
      ]
     },
     "execution_count": 20,
     "metadata": {},
     "output_type": "execute_result"
    }
   ],
   "source": [
    "y = np.asarray(Autism_df['ADS'])\n",
    "y [0:5]"
   ]
  },
  {
   "cell_type": "markdown",
   "metadata": {},
   "source": [
    "Also, we normalize the dataset:"
   ]
  },
  {
   "cell_type": "code",
   "execution_count": 8,
   "metadata": {},
   "outputs": [
    {
     "data": {
      "text/plain": [
       "array([[-1.13635573, -0.90228244, -0.8187579 , -1.02497983, -1.05061526,\n",
       "        -1.16757385,  0.7339524 ,  1.0852124 , -0.9793405 ,  0.83994144,\n",
       "         0.01665219,  1.51791806,  1.63086548, -0.43852901, -1.4943657 ],\n",
       "       [ 0.88000612,  1.10830041, -0.8187579 , -1.02497983, -1.05061526,\n",
       "         0.85647687,  0.7339524 , -0.9214786 , -0.9793405 , -1.19055919,\n",
       "         1.01958993, -0.65879709,  1.63086548, -0.43852901,  0.66918024],\n",
       "       [ 0.88000612, -0.90228244, -0.8187579 , -1.02497983, -1.05061526,\n",
       "        -1.16757385,  0.7339524 ,  1.0852124 , -0.9793405 ,  0.83994144,\n",
       "         1.01958993, -0.65879709,  1.63086548, -0.43852901,  0.66918024],\n",
       "       [ 0.88000612,  1.10830041,  1.22136226,  0.97562895,  0.95182322,\n",
       "         0.85647687,  0.7339524 ,  1.0852124 ,  1.02109532,  0.83994144,\n",
       "        -0.48481667, -0.65879709, -0.61317136, -0.43852901,  0.66918024],\n",
       "       [ 0.88000612,  1.10830041, -0.8187579 ,  0.97562895,  0.95182322,\n",
       "         0.85647687,  0.7339524 ,  1.0852124 ,  1.02109532,  0.83994144,\n",
       "        -0.98628554,  1.51791806, -0.61317136,  2.28035085,  0.66918024]])"
      ]
     },
     "execution_count": 8,
     "metadata": {},
     "output_type": "execute_result"
    }
   ],
   "source": [
    "from sklearn import preprocessing\n",
    "X = preprocessing.StandardScaler().fit(X).transform(X)\n",
    "X[0:5]"
   ]
  },
  {
   "cell_type": "markdown",
   "metadata": {},
   "source": [
    "## Train/Test dataset"
   ]
  },
  {
   "cell_type": "code",
   "execution_count": 21,
   "metadata": {},
   "outputs": [
    {
     "name": "stdout",
     "output_type": "stream",
     "text": [
      "Train set: (843, 15) (843,)\n",
      "Test set: (211, 15) (211,)\n"
     ]
    }
   ],
   "source": [
    "from sklearn.model_selection import train_test_split\n",
    "X_train, X_test, y_train, y_test = train_test_split( X, y, test_size=0.2, random_state=4)\n",
    "print ('Train set:', X_train.shape,  y_train.shape)\n",
    "print ('Test set:', X_test.shape,  y_test.shape)"
   ]
  },
  {
   "cell_type": "markdown",
   "metadata": {},
   "source": [
    "<h2 id=\"modeling\">Modeling (Logistic Regression with Scikit-learn)</h2>"
   ]
  },
  {
   "cell_type": "markdown",
   "metadata": {},
   "source": [
    "Lets build our model using __LogisticRegression__ from Scikit-learn package. This function implements logistic regression and can use different numerical optimizers to find parameters, including ‘newton-cg’, ‘lbfgs’, ‘liblinear’, ‘sag’, ‘saga’ solvers. You can find extensive information about the pros and cons of these optimizers if you search it in internet.\n",
    "\n",
    "The version of Logistic Regression in Scikit-learn, support regularization. Regularization is a technique used to solve the overfitting problem in machine learning models.\n",
    "__C__ parameter indicates __inverse of regularization strength__ which must be a positive float. Smaller values specify stronger regularization. \n",
    "Now lets fit our model with train set:"
   ]
  },
  {
   "cell_type": "code",
   "execution_count": 22,
   "metadata": {},
   "outputs": [
    {
     "data": {
      "text/plain": [
       "LogisticRegression(C=0.01, class_weight=None, dual=False, fit_intercept=True,\n",
       "                   intercept_scaling=1, l1_ratio=None, max_iter=100,\n",
       "                   multi_class='warn', n_jobs=None, penalty='l2',\n",
       "                   random_state=None, solver='liblinear', tol=0.0001, verbose=0,\n",
       "                   warm_start=False)"
      ]
     },
     "execution_count": 22,
     "metadata": {},
     "output_type": "execute_result"
    }
   ],
   "source": [
    "from sklearn.linear_model import LogisticRegression\n",
    "from sklearn.metrics import confusion_matrix\n",
    "LR = LogisticRegression(C=0.01, solver='liblinear').fit(X_train,y_train)\n",
    "LR"
   ]
  },
  {
   "cell_type": "markdown",
   "metadata": {},
   "source": [
    "Now we can predict using our test set:"
   ]
  },
  {
   "cell_type": "code",
   "execution_count": 23,
   "metadata": {},
   "outputs": [
    {
     "data": {
      "text/plain": [
       "array([1, 1, 1, 1, 0, 1, 1, 0, 1, 1, 1, 0, 0, 1, 1, 1, 1, 1, 1, 1, 1, 1,\n",
       "       0, 0, 0, 1, 1, 0, 0, 1, 1, 1, 1, 1, 0, 1, 0, 1, 0, 0, 0, 0, 1, 1,\n",
       "       0, 1, 1, 1, 1, 1, 0, 0, 1, 1, 0, 0, 1, 0, 1, 1, 1, 0, 1, 1, 1, 1,\n",
       "       1, 1, 1, 1, 1, 1, 1, 1, 1, 0, 1, 0, 0, 1, 1, 0, 1, 1, 1, 0, 1, 1,\n",
       "       1, 1, 1, 1, 1, 0, 1, 0, 1, 1, 0, 0, 0, 1, 1, 0, 1, 1, 1, 1, 0, 1,\n",
       "       1, 1, 1, 1, 1, 1, 1, 1, 0, 1, 0, 1, 1, 0, 1, 1, 1, 1, 1, 0, 1, 1,\n",
       "       1, 1, 0, 1, 1, 0, 1, 1, 1, 1, 1, 1, 1, 1, 1, 0, 1, 1, 1, 1, 1, 1,\n",
       "       1, 1, 1, 1, 1, 1, 1, 1, 0, 0, 1, 1, 1, 1, 1, 1, 1, 1, 0, 1, 1, 0,\n",
       "       0, 1, 1, 1, 0, 0, 1, 0, 1, 1, 0, 1, 1, 1, 0, 1, 0, 1, 1, 1, 1, 1,\n",
       "       0, 1, 1, 1, 0, 1, 0, 1, 0, 1, 0, 1, 1])"
      ]
     },
     "execution_count": 23,
     "metadata": {},
     "output_type": "execute_result"
    }
   ],
   "source": [
    "yhat = LR.predict(X_test)\n",
    "yhat"
   ]
  },
  {
   "cell_type": "markdown",
   "metadata": {},
   "source": [
    "__predict_proba__  returns estimates for all classes, ordered by the label of classes. So, the first column is the probability of class 1, P(Y=1|X), and second column is probability of class 0, P(Y=0|X):"
   ]
  },
  {
   "cell_type": "code",
   "execution_count": 24,
   "metadata": {},
   "outputs": [
    {
     "data": {
      "text/plain": [
       "array([[0.12269955, 0.87730045],\n",
       "       [0.12228179, 0.87771821],\n",
       "       [0.04929532, 0.95070468],\n",
       "       [0.06797939, 0.93202061],\n",
       "       [0.60602875, 0.39397125],\n",
       "       [0.08579982, 0.91420018],\n",
       "       [0.08432242, 0.91567758],\n",
       "       [0.65140795, 0.34859205],\n",
       "       [0.05057672, 0.94942328],\n",
       "       [0.15756391, 0.84243609],\n",
       "       [0.10397921, 0.89602079],\n",
       "       [0.61091861, 0.38908139],\n",
       "       [0.69997137, 0.30002863],\n",
       "       [0.13318635, 0.86681365],\n",
       "       [0.46299393, 0.53700607],\n",
       "       [0.06139813, 0.93860187],\n",
       "       [0.28210364, 0.71789636],\n",
       "       [0.20768638, 0.79231362],\n",
       "       [0.19313328, 0.80686672],\n",
       "       [0.37136471, 0.62863529],\n",
       "       [0.07415179, 0.92584821],\n",
       "       [0.03435269, 0.96564731],\n",
       "       [0.69662824, 0.30337176],\n",
       "       [0.69804522, 0.30195478],\n",
       "       [0.59798612, 0.40201388],\n",
       "       [0.4359078 , 0.5640922 ],\n",
       "       [0.0529376 , 0.9470624 ],\n",
       "       [0.58893948, 0.41106052],\n",
       "       [0.70960261, 0.29039739],\n",
       "       [0.0597162 , 0.9402838 ],\n",
       "       [0.04493953, 0.95506047],\n",
       "       [0.07160879, 0.92839121],\n",
       "       [0.05057672, 0.94942328],\n",
       "       [0.10982623, 0.89017377],\n",
       "       [0.57009562, 0.42990438],\n",
       "       [0.33573089, 0.66426911],\n",
       "       [0.58858165, 0.41141835],\n",
       "       [0.48563822, 0.51436178],\n",
       "       [0.61544888, 0.38455112],\n",
       "       [0.53117932, 0.46882068],\n",
       "       [0.61351793, 0.38648207],\n",
       "       [0.59734419, 0.40265581],\n",
       "       [0.05206509, 0.94793491],\n",
       "       [0.045835  , 0.954165  ],\n",
       "       [0.63143637, 0.36856363],\n",
       "       [0.15357728, 0.84642272],\n",
       "       [0.18834479, 0.81165521],\n",
       "       [0.09896694, 0.90103306],\n",
       "       [0.04719077, 0.95280923],\n",
       "       [0.09988436, 0.90011564],\n",
       "       [0.78897691, 0.21102309],\n",
       "       [0.57179835, 0.42820165],\n",
       "       [0.39309546, 0.60690454],\n",
       "       [0.27304056, 0.72695944],\n",
       "       [0.70950962, 0.29049038],\n",
       "       [0.77456341, 0.22543659],\n",
       "       [0.06847202, 0.93152798],\n",
       "       [0.6978314 , 0.3021686 ],\n",
       "       [0.05479233, 0.94520767],\n",
       "       [0.17320084, 0.82679916],\n",
       "       [0.20982519, 0.79017481],\n",
       "       [0.64637166, 0.35362834],\n",
       "       [0.07385228, 0.92614772],\n",
       "       [0.11898128, 0.88101872],\n",
       "       [0.10838575, 0.89161425],\n",
       "       [0.04696994, 0.95303006],\n",
       "       [0.10694732, 0.89305268],\n",
       "       [0.14638932, 0.85361068],\n",
       "       [0.15341667, 0.84658333],\n",
       "       [0.12491614, 0.87508386],\n",
       "       [0.0496407 , 0.9503593 ],\n",
       "       [0.05008178, 0.94991822],\n",
       "       [0.17508346, 0.82491654],\n",
       "       [0.13581688, 0.86418312],\n",
       "       [0.11321489, 0.88678511],\n",
       "       [0.6249985 , 0.3750015 ],\n",
       "       [0.11006731, 0.88993269],\n",
       "       [0.53421667, 0.46578333],\n",
       "       [0.63753656, 0.36246344],\n",
       "       [0.07630999, 0.92369001],\n",
       "       [0.21338521, 0.78661479],\n",
       "       [0.54291333, 0.45708667],\n",
       "       [0.05697523, 0.94302477],\n",
       "       [0.22907098, 0.77092902],\n",
       "       [0.22916598, 0.77083402],\n",
       "       [0.66181132, 0.33818868],\n",
       "       [0.12271504, 0.87728496],\n",
       "       [0.16561922, 0.83438078],\n",
       "       [0.14615633, 0.85384367],\n",
       "       [0.10208236, 0.89791764],\n",
       "       [0.1623972 , 0.8376028 ],\n",
       "       [0.06061112, 0.93938888],\n",
       "       [0.30491666, 0.69508334],\n",
       "       [0.56522403, 0.43477597],\n",
       "       [0.32385077, 0.67614923],\n",
       "       [0.52705029, 0.47294971],\n",
       "       [0.09851762, 0.90148238],\n",
       "       [0.0731409 , 0.9268591 ],\n",
       "       [0.74641733, 0.25358267],\n",
       "       [0.65418767, 0.34581233],\n",
       "       [0.6249985 , 0.3750015 ],\n",
       "       [0.11618279, 0.88381721],\n",
       "       [0.18710685, 0.81289315],\n",
       "       [0.59463177, 0.40536823],\n",
       "       [0.24898765, 0.75101235],\n",
       "       [0.11627462, 0.88372538],\n",
       "       [0.09352046, 0.90647954],\n",
       "       [0.13907112, 0.86092888],\n",
       "       [0.64011477, 0.35988523],\n",
       "       [0.46490959, 0.53509041],\n",
       "       [0.21211177, 0.78788823],\n",
       "       [0.12047882, 0.87952118],\n",
       "       [0.11403168, 0.88596832],\n",
       "       [0.16921037, 0.83078963],\n",
       "       [0.11307293, 0.88692707],\n",
       "       [0.04908655, 0.95091345],\n",
       "       [0.39309546, 0.60690454],\n",
       "       [0.04919145, 0.95080855],\n",
       "       [0.6464425 , 0.3535575 ],\n",
       "       [0.1495485 , 0.8504515 ],\n",
       "       [0.77456341, 0.22543659],\n",
       "       [0.26946814, 0.73053186],\n",
       "       [0.08572297, 0.91427703],\n",
       "       [0.70307422, 0.29692578],\n",
       "       [0.08950484, 0.91049516],\n",
       "       [0.19044484, 0.80955516],\n",
       "       [0.10121261, 0.89878739],\n",
       "       [0.25232458, 0.74767542],\n",
       "       [0.06655646, 0.93344354],\n",
       "       [0.74075846, 0.25924154],\n",
       "       [0.10592661, 0.89407339],\n",
       "       [0.42409222, 0.57590778],\n",
       "       [0.43792208, 0.56207792],\n",
       "       [0.06409366, 0.93590634],\n",
       "       [0.78897691, 0.21102309],\n",
       "       [0.24737052, 0.75262948],\n",
       "       [0.1867889 , 0.8132111 ],\n",
       "       [0.6978314 , 0.3021686 ],\n",
       "       [0.14574894, 0.85425106],\n",
       "       [0.11882812, 0.88117188],\n",
       "       [0.21622453, 0.78377547],\n",
       "       [0.12269955, 0.87730045],\n",
       "       [0.15527778, 0.84472222],\n",
       "       [0.06576721, 0.93423279],\n",
       "       [0.09305759, 0.90694241],\n",
       "       [0.25897038, 0.74102962],\n",
       "       [0.12734307, 0.87265693],\n",
       "       [0.68774078, 0.31225922],\n",
       "       [0.05364058, 0.94635942],\n",
       "       [0.05364058, 0.94635942],\n",
       "       [0.05208736, 0.94791264],\n",
       "       [0.24155658, 0.75844342],\n",
       "       [0.20460537, 0.79539463],\n",
       "       [0.26874435, 0.73125565],\n",
       "       [0.31085701, 0.68914299],\n",
       "       [0.14364074, 0.85635926],\n",
       "       [0.21104904, 0.78895096],\n",
       "       [0.07536552, 0.92463448],\n",
       "       [0.15001299, 0.84998701],\n",
       "       [0.04344465, 0.95655535],\n",
       "       [0.03834879, 0.96165121],\n",
       "       [0.06052806, 0.93947194],\n",
       "       [0.58140886, 0.41859114],\n",
       "       [0.59863239, 0.40136761],\n",
       "       [0.26692629, 0.73307371],\n",
       "       [0.06769921, 0.93230079],\n",
       "       [0.09510429, 0.90489571],\n",
       "       [0.05208736, 0.94791264],\n",
       "       [0.09237538, 0.90762462],\n",
       "       [0.06391355, 0.93608645],\n",
       "       [0.29421298, 0.70578702],\n",
       "       [0.29751257, 0.70248743],\n",
       "       [0.79629452, 0.20370548],\n",
       "       [0.31572348, 0.68427652],\n",
       "       [0.1066386 , 0.8933614 ],\n",
       "       [0.56522403, 0.43477597],\n",
       "       [0.6800429 , 0.3199571 ],\n",
       "       [0.22293774, 0.77706226],\n",
       "       [0.07771257, 0.92228743],\n",
       "       [0.21513421, 0.78486579],\n",
       "       [0.77822978, 0.22177022],\n",
       "       [0.57362387, 0.42637613],\n",
       "       [0.09305759, 0.90694241],\n",
       "       [0.63224095, 0.36775905],\n",
       "       [0.43500758, 0.56499242],\n",
       "       [0.07809833, 0.92190167],\n",
       "       [0.6720992 , 0.3279008 ],\n",
       "       [0.15337099, 0.84662901],\n",
       "       [0.10228834, 0.89771166],\n",
       "       [0.28923298, 0.71076702],\n",
       "       [0.66447481, 0.33552519],\n",
       "       [0.06606284, 0.93393716],\n",
       "       [0.62003572, 0.37996428],\n",
       "       [0.15072198, 0.84927802],\n",
       "       [0.25031419, 0.74968581],\n",
       "       [0.08693864, 0.91306136],\n",
       "       [0.10117761, 0.89882239],\n",
       "       [0.13728008, 0.86271992],\n",
       "       [0.52584296, 0.47415704],\n",
       "       [0.08208615, 0.91791385],\n",
       "       [0.05057672, 0.94942328],\n",
       "       [0.06391355, 0.93608645],\n",
       "       [0.68435312, 0.31564688],\n",
       "       [0.06124999, 0.93875001],\n",
       "       [0.70307422, 0.29692578],\n",
       "       [0.04810783, 0.95189217],\n",
       "       [0.73755551, 0.26244449],\n",
       "       [0.06208239, 0.93791761],\n",
       "       [0.68828553, 0.31171447],\n",
       "       [0.25435103, 0.74564897],\n",
       "       [0.3226035 , 0.6773965 ]])"
      ]
     },
     "execution_count": 24,
     "metadata": {},
     "output_type": "execute_result"
    }
   ],
   "source": [
    "yhat_prob = LR.predict_proba(X_test)\n",
    "yhat_prob"
   ]
  },
  {
   "cell_type": "markdown",
   "metadata": {},
   "source": [
    "<h2 id=\"preprocessing\">Evaluation</h2>"
   ]
  },
  {
   "cell_type": "markdown",
   "metadata": {},
   "source": [
    "### jaccard index\n",
    "Lets try jaccard index for accuracy evaluation. we can define jaccard as the size of the intersection divided by the size of the union of two label sets. If the entire set of predicted labels for a sample strictly match with the true set of labels, then the subset accuracy is 1.0; otherwise it is 0.0.\n",
    "\n",
    "    "
   ]
  },
  {
   "cell_type": "code",
   "execution_count": 36,
   "metadata": {},
   "outputs": [
    {
     "data": {
      "text/plain": [
       "0.9415584415584416"
      ]
     },
     "execution_count": 36,
     "metadata": {},
     "output_type": "execute_result"
    }
   ],
   "source": [
    "from sklearn.metrics import jaccard_score\n",
    "jaccard_score(y_test, yhat)\n"
   ]
  },
  {
   "cell_type": "markdown",
   "metadata": {},
   "source": [
    "### confusion matrix"
   ]
  },
  {
   "cell_type": "markdown",
   "metadata": {},
   "source": [
    "Another way of looking at accuracy of classifier is to look at __confusion matrix__."
   ]
  },
  {
   "cell_type": "code",
   "execution_count": 37,
   "metadata": {},
   "outputs": [
    {
     "name": "stdout",
     "output_type": "stream",
     "text": [
      "[[145   0]\n",
      " [  9  57]]\n"
     ]
    }
   ],
   "source": [
    "from sklearn.metrics import classification_report, confusion_matrix\n",
    "import itertools\n",
    "def plot_confusion_matrix(cm, classes,\n",
    "                          normalize=False,\n",
    "                          title='Confusion matrix',\n",
    "                          cmap=plt.cm.Blues):\n",
    "    \"\"\"\n",
    "    This function prints and plots the confusion matrix.\n",
    "    Normalization can be applied by setting `normalize=True`.\n",
    "    \"\"\"\n",
    "    if normalize:\n",
    "        cm = cm.astype('float') / cm.sum(axis=1)[:, np.newaxis]\n",
    "        print(\"Normalized confusion matrix\")\n",
    "    else:\n",
    "        print('Confusion matrix, without normalization')\n",
    "\n",
    "    print(cm)\n",
    "\n",
    "    plt.imshow(cm, interpolation='nearest', cmap=cmap)\n",
    "    plt.title(title)\n",
    "    plt.colorbar()\n",
    "    tick_marks = np.arange(len(classes))\n",
    "    plt.xticks(tick_marks, classes, rotation=45)\n",
    "    plt.yticks(tick_marks, classes)\n",
    "\n",
    "    fmt = '.2f' if normalize else 'd'\n",
    "    thresh = cm.max() / 2.\n",
    "    for i, j in itertools.product(range(cm.shape[0]), range(cm.shape[1])):\n",
    "        plt.text(j, i, format(cm[i, j], fmt),\n",
    "                 horizontalalignment=\"center\",\n",
    "                 color=\"white\" if cm[i, j] > thresh else \"black\")\n",
    "\n",
    "    plt.tight_layout()\n",
    "    plt.ylabel('True label')\n",
    "    plt.xlabel('Predicted label')\n",
    "print(confusion_matrix(y_test, yhat, labels=[1,0]))"
   ]
  },
  {
   "cell_type": "code",
   "execution_count": 38,
   "metadata": {},
   "outputs": [
    {
     "name": "stdout",
     "output_type": "stream",
     "text": [
      "Confusion matrix, without normalization\n",
      "[[145   0]\n",
      " [  9  57]]\n"
     ]
    },
    {
     "data": {
      "image/png": "[encoded data removed]",
      "text/plain": [
       "<Figure size 432x288 with 2 Axes>"
      ]
     },
     "metadata": {
      "needs_background": "light"
     },
     "output_type": "display_data"
    }
   ],
   "source": [
    "# Compute confusion matrix\n",
    "cnf_matrix = confusion_matrix(y_test, yhat, labels=[1,0])\n",
    "np.set_printoptions(precision=2)\n",
    "\n",
    "\n",
    "# Plot non-normalized confusion matrix\n",
    "plt.figure()\n",
    "plot_confusion_matrix(cnf_matrix, classes=['ADS=1','ADS=0'],normalize= False,  title='Confusion matrix')"
   ]
  },
  {
   "cell_type": "markdown",
   "metadata": {},
   "source": [
    "Look at first row. The first row is for Samples whose actual ADS value in test set is 1.\n",
    "As you can calculate, out of 211 customers, the churn value of 145 of them is 1. \n",
    "And out of these 145, the classifier correctly predicted 145 of them as 1, and 0 of them as 0. \n",
    "\n",
    "It means, for 145 samples, the actual ADS value were 1 in test set, and classifier also correctly predicted those as 1. \n",
    "\n",
    "What about the samples with ADS value 0? Lets look at the second row.\n",
    "It looks like  there were 57 customers whom their ADS value were 0. \n",
    "\n",
    "\n",
    "The classifier correctly predicted 57 of them as 0.and 9 of them wrongly as 1 So, it has done a good job in predicting the samples with ADS value 1. A good thing about confusion matrix is that shows the model’s ability to correctly predict or separate the classes.  In specific case of binary classifier, such as this example,  we can interpret these numbers as the count of true positives, false positives, true negatives, and false negatives. "
   ]
  },
  {
   "cell_type": "code",
   "execution_count": 39,
   "metadata": {},
   "outputs": [
    {
     "name": "stdout",
     "output_type": "stream",
     "text": [
      "              precision    recall  f1-score   support\n",
      "\n",
      "           0       1.00      0.86      0.93        66\n",
      "           1       0.94      1.00      0.97       145\n",
      "\n",
      "    accuracy                           0.96       211\n",
      "   macro avg       0.97      0.93      0.95       211\n",
      "weighted avg       0.96      0.96      0.96       211\n",
      "\n"
     ]
    }
   ],
   "source": [
    "print (classification_report(y_test, yhat))"
   ]
  },
  {
   "cell_type": "markdown",
   "metadata": {},
   "source": [
    "Based on the count of each section, we can calculate precision and recall of each label:\n",
    "\n",
    "\n",
    "- __Precision__ is a measure of the accuracy provided that a class label has been predicted. It is defined by: precision = TP / (TP + FP)\n",
    "\n",
    "- __Recall__ is true positive rate. It is defined as: Recall =  TP / (TP + FN)\n",
    "\n",
    "    \n",
    "So, we can calculate precision and recall of each class.\n",
    "\n",
    "__F1 score:__\n",
    "Now we are in the position to calculate the F1 scores for each label based on the precision and recall of that label. \n",
    "\n",
    "The F1 score is the harmonic average of the precision and recall, where an F1 score reaches its best value at 1 (perfect precision and recall) and worst at 0. It is a good way to show that a classifer has a good value for both recall and precision.\n",
    "\n",
    "\n",
    "And finally, we can tell the average accuracy for this classifier is the average of the F1-score for both labels, which is 1.0 in our case."
   ]
  },
  {
   "cell_type": "markdown",
   "metadata": {},
   "source": [
    "### log loss\n",
    "Now, lets try __log loss__ for evaluation. In logistic regression, the output can be the probability of customer churn is yes (or equals to 1). This probability is a value between 0 and 1.\n",
    "Log loss( Logarithmic loss) measures the performance of a classifier where the predicted output is a probability value between 0 and 1. \n"
   ]
  },
  {
   "cell_type": "code",
   "execution_count": 40,
   "metadata": {},
   "outputs": [
    {
     "data": {
      "text/plain": [
       "0.25636419958456347"
      ]
     },
     "execution_count": 40,
     "metadata": {},
     "output_type": "execute_result"
    }
   ],
   "source": [
    "from sklearn.metrics import log_loss\n",
    "log_loss(y_test, yhat_prob)"
   ]
  },
  {
   "cell_type": "code",
   "execution_count": null,
   "metadata": {},
   "outputs": [],
   "source": []
  }
 ],
 "metadata": {
  "kernelspec": {
   "display_name": "Python 3",
   "language": "python",
   "name": "python3"
  },
  "language_info": {
   "codemirror_mode": {
    "name": "ipython",
    "version": 3
   },
   "file_extension": ".py",
   "mimetype": "text/x-python",
   "name": "python",
   "nbconvert_exporter": "python",
   "pygments_lexer": "ipython3",
   "version": "3.7.9"
  }
 },
 "nbformat": 4,
 "nbformat_minor": 2
}
